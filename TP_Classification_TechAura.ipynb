{
  "cells": [
    {
      "cell_type": "code",
      "execution_count": 15,
      "metadata": {
        "colab": {
          "base_uri": "https://localhost:8080/",
          "height": 316
        },
        "id": "gqjgL71j0yqD",
        "outputId": "3fdbc872-1eec-454f-d141-334f8e937871"
      },
      "outputs": [
        {
          "data": {
            "text/html": [
              "\n",
              "     <input type=\"file\" id=\"files-5de5ffba-4b08-4477-b9c6-630cef9a92da\" name=\"files[]\" multiple disabled\n",
              "        style=\"border:none\" />\n",
              "     <output id=\"result-5de5ffba-4b08-4477-b9c6-630cef9a92da\">\n",
              "      Upload widget is only available when the cell has been executed in the\n",
              "      current browser session. Please rerun this cell to enable.\n",
              "      </output>\n",
              "      <script>// Copyright 2017 Google LLC\n",
              "//\n",
              "// Licensed under the Apache License, Version 2.0 (the \"License\");\n",
              "// you may not use this file except in compliance with the License.\n",
              "// You may obtain a copy of the License at\n",
              "//\n",
              "//      http://www.apache.org/licenses/LICENSE-2.0\n",
              "//\n",
              "// Unless required by applicable law or agreed to in writing, software\n",
              "// distributed under the License is distributed on an \"AS IS\" BASIS,\n",
              "// WITHOUT WARRANTIES OR CONDITIONS OF ANY KIND, either express or implied.\n",
              "// See the License for the specific language governing permissions and\n",
              "// limitations under the License.\n",
              "\n",
              "/**\n",
              " * @fileoverview Helpers for google.colab Python module.\n",
              " */\n",
              "(function(scope) {\n",
              "function span(text, styleAttributes = {}) {\n",
              "  const element = document.createElement('span');\n",
              "  element.textContent = text;\n",
              "  for (const key of Object.keys(styleAttributes)) {\n",
              "    element.style[key] = styleAttributes[key];\n",
              "  }\n",
              "  return element;\n",
              "}\n",
              "\n",
              "// Max number of bytes which will be uploaded at a time.\n",
              "const MAX_PAYLOAD_SIZE = 100 * 1024;\n",
              "\n",
              "function _uploadFiles(inputId, outputId) {\n",
              "  const steps = uploadFilesStep(inputId, outputId);\n",
              "  const outputElement = document.getElementById(outputId);\n",
              "  // Cache steps on the outputElement to make it available for the next call\n",
              "  // to uploadFilesContinue from Python.\n",
              "  outputElement.steps = steps;\n",
              "\n",
              "  return _uploadFilesContinue(outputId);\n",
              "}\n",
              "\n",
              "// This is roughly an async generator (not supported in the browser yet),\n",
              "// where there are multiple asynchronous steps and the Python side is going\n",
              "// to poll for completion of each step.\n",
              "// This uses a Promise to block the python side on completion of each step,\n",
              "// then passes the result of the previous step as the input to the next step.\n",
              "function _uploadFilesContinue(outputId) {\n",
              "  const outputElement = document.getElementById(outputId);\n",
              "  const steps = outputElement.steps;\n",
              "\n",
              "  const next = steps.next(outputElement.lastPromiseValue);\n",
              "  return Promise.resolve(next.value.promise).then((value) => {\n",
              "    // Cache the last promise value to make it available to the next\n",
              "    // step of the generator.\n",
              "    outputElement.lastPromiseValue = value;\n",
              "    return next.value.response;\n",
              "  });\n",
              "}\n",
              "\n",
              "/**\n",
              " * Generator function which is called between each async step of the upload\n",
              " * process.\n",
              " * @param {string} inputId Element ID of the input file picker element.\n",
              " * @param {string} outputId Element ID of the output display.\n",
              " * @return {!Iterable<!Object>} Iterable of next steps.\n",
              " */\n",
              "function* uploadFilesStep(inputId, outputId) {\n",
              "  const inputElement = document.getElementById(inputId);\n",
              "  inputElement.disabled = false;\n",
              "\n",
              "  const outputElement = document.getElementById(outputId);\n",
              "  outputElement.innerHTML = '';\n",
              "\n",
              "  const pickedPromise = new Promise((resolve) => {\n",
              "    inputElement.addEventListener('change', (e) => {\n",
              "      resolve(e.target.files);\n",
              "    });\n",
              "  });\n",
              "\n",
              "  const cancel = document.createElement('button');\n",
              "  inputElement.parentElement.appendChild(cancel);\n",
              "  cancel.textContent = 'Cancel upload';\n",
              "  const cancelPromise = new Promise((resolve) => {\n",
              "    cancel.onclick = () => {\n",
              "      resolve(null);\n",
              "    };\n",
              "  });\n",
              "\n",
              "  // Wait for the user to pick the files.\n",
              "  const files = yield {\n",
              "    promise: Promise.race([pickedPromise, cancelPromise]),\n",
              "    response: {\n",
              "      action: 'starting',\n",
              "    }\n",
              "  };\n",
              "\n",
              "  cancel.remove();\n",
              "\n",
              "  // Disable the input element since further picks are not allowed.\n",
              "  inputElement.disabled = true;\n",
              "\n",
              "  if (!files) {\n",
              "    return {\n",
              "      response: {\n",
              "        action: 'complete',\n",
              "      }\n",
              "    };\n",
              "  }\n",
              "\n",
              "  for (const file of files) {\n",
              "    const li = document.createElement('li');\n",
              "    li.append(span(file.name, {fontWeight: 'bold'}));\n",
              "    li.append(span(\n",
              "        `(${file.type || 'n/a'}) - ${file.size} bytes, ` +\n",
              "        `last modified: ${\n",
              "            file.lastModifiedDate ? file.lastModifiedDate.toLocaleDateString() :\n",
              "                                    'n/a'} - `));\n",
              "    const percent = span('0% done');\n",
              "    li.appendChild(percent);\n",
              "\n",
              "    outputElement.appendChild(li);\n",
              "\n",
              "    const fileDataPromise = new Promise((resolve) => {\n",
              "      const reader = new FileReader();\n",
              "      reader.onload = (e) => {\n",
              "        resolve(e.target.result);\n",
              "      };\n",
              "      reader.readAsArrayBuffer(file);\n",
              "    });\n",
              "    // Wait for the data to be ready.\n",
              "    let fileData = yield {\n",
              "      promise: fileDataPromise,\n",
              "      response: {\n",
              "        action: 'continue',\n",
              "      }\n",
              "    };\n",
              "\n",
              "    // Use a chunked sending to avoid message size limits. See b/62115660.\n",
              "    let position = 0;\n",
              "    do {\n",
              "      const length = Math.min(fileData.byteLength - position, MAX_PAYLOAD_SIZE);\n",
              "      const chunk = new Uint8Array(fileData, position, length);\n",
              "      position += length;\n",
              "\n",
              "      const base64 = btoa(String.fromCharCode.apply(null, chunk));\n",
              "      yield {\n",
              "        response: {\n",
              "          action: 'append',\n",
              "          file: file.name,\n",
              "          data: base64,\n",
              "        },\n",
              "      };\n",
              "\n",
              "      let percentDone = fileData.byteLength === 0 ?\n",
              "          100 :\n",
              "          Math.round((position / fileData.byteLength) * 100);\n",
              "      percent.textContent = `${percentDone}% done`;\n",
              "\n",
              "    } while (position < fileData.byteLength);\n",
              "  }\n",
              "\n",
              "  // All done.\n",
              "  yield {\n",
              "    response: {\n",
              "      action: 'complete',\n",
              "    }\n",
              "  };\n",
              "}\n",
              "\n",
              "scope.google = scope.google || {};\n",
              "scope.google.colab = scope.google.colab || {};\n",
              "scope.google.colab._files = {\n",
              "  _uploadFiles,\n",
              "  _uploadFilesContinue,\n",
              "};\n",
              "})(self);\n",
              "</script> "
            ],
            "text/plain": [
              "<IPython.core.display.HTML object>"
            ]
          },
          "metadata": {},
          "output_type": "display_data"
        },
        {
          "name": "stdout",
          "output_type": "stream",
          "text": [
            "Saving diabetes.csv to diabetes.csv\n",
            "User uploaded file \"diabetes.csv\" with length 23875 bytes\n",
            "   Pregnancies  Glucose  BloodPressure  SkinThickness  Insulin   BMI  \\\n",
            "0            6      148             72             35        0  33.6   \n",
            "1            1       85             66             29        0  26.6   \n",
            "2            8      183             64              0        0  23.3   \n",
            "3            1       89             66             23       94  28.1   \n",
            "4            0      137             40             35      168  43.1   \n",
            "\n",
            "   DiabetesPedigreeFunction  Age  Outcome  \n",
            "0                     0.627   50        1  \n",
            "1                     0.351   31        0  \n",
            "2                     0.672   32        1  \n",
            "3                     0.167   21        0  \n",
            "4                     2.288   33        1  \n"
          ]
        }
      ],
      "source": [
        "import pandas as pd\n",
        "from google.colab import files\n",
        "\n",
        "# Si le fichier est sur votre ordinateur local\n",
        "uploaded = files.upload()\n",
        "for fn in uploaded.keys():\n",
        "  print('User uploaded file \"{name}\" with length {length} bytes'.format(\n",
        "      name=fn, length=len(uploaded[fn])))\n",
        "\n",
        "# Charger le dataset\n",
        "df = pd.read_csv('diabetes.csv')\n",
        "\n",
        "# Afficher les premières lignes pour vérifier le chargement\n",
        "print(df.head())"
      ]
    },
    {
      "cell_type": "code",
      "execution_count": 16,
      "metadata": {
        "colab": {
          "base_uri": "https://localhost:8080/"
        },
        "id": "NpdYmH0P07ea",
        "outputId": "4e878cfe-3ea1-46f9-9a7b-04a98c1c8bd9"
      },
      "outputs": [
        {
          "name": "stdout",
          "output_type": "stream",
          "text": [
            "\n",
            "Nettoyage et prétraitement terminés.\n",
            "   Pregnancies  Glucose  BloodPressure  SkinThickness     Insulin   BMI  \\\n",
            "0            6    148.0           72.0       35.00000  155.548223  33.6   \n",
            "1            1     85.0           66.0       29.00000  155.548223  26.6   \n",
            "2            8    183.0           64.0       29.15342  155.548223  23.3   \n",
            "3            1     89.0           66.0       23.00000   94.000000  28.1   \n",
            "4            0    137.0           40.0       35.00000  168.000000  43.1   \n",
            "\n",
            "   DiabetesPedigreeFunction  Age  Outcome  \n",
            "0                     0.627   50        1  \n",
            "1                     0.351   31        0  \n",
            "2                     0.672   32        1  \n",
            "3                     0.167   21        0  \n",
            "4                     2.288   33        1  \n"
          ]
        }
      ],
      "source": [
        "import numpy as np\n",
        "from sklearn.impute import SimpleImputer\n",
        "from sklearn.preprocessing import StandardScaler\n",
        "\n",
        "# Identifier les colonnes avec des zéros à traiter comme manquants\n",
        "cols_with_zeros = ['Glucose', 'BloodPressure', 'SkinThickness', 'Insulin', 'BMI']\n",
        "\n",
        "# Remplacer les zéros par NaN\n",
        "df[cols_with_zeros] = df[cols_with_zeros].replace(0, np.nan)\n",
        "\n",
        "# Imputation par la moyenne (vous pouvez aussi utiliser 'median')\n",
        "imputer = SimpleImputer(missing_values=np.nan, strategy='mean')\n",
        "df[cols_with_zeros] = imputer.fit_transform(df[cols_with_zeros])\n",
        "\n",
        "# Séparer les caractéristiques (X) et la cible (y)\n",
        "X = df.drop('Outcome', axis=1)\n",
        "y = df['Outcome']\n",
        "\n",
        "# Standardiser les caractéristiques numériques\n",
        "scaler = StandardScaler()\n",
        "X_scaled = scaler.fit_transform(X)\n",
        "X = pd.DataFrame(X_scaled, columns=X.columns)\n",
        "\n",
        "print(\"\\nNettoyage et prétraitement terminés.\")\n",
        "print(df.head())"
      ]
    },
    {
      "cell_type": "code",
      "execution_count": 17,
      "metadata": {
        "colab": {
          "base_uri": "https://localhost:8080/",
          "height": 775
        },
        "id": "tYHzo4FO09wy",
        "outputId": "01b8525d-011f-4d53-f338-13bff142137c"
      },
      "outputs": [
        {
          "data": {
            "image/png": "[encoded data removed]",
            "text/plain": [
              "<Figure size 600x400 with 1 Axes>"
            ]
          },
          "metadata": {},
          "output_type": "display_data"
        },
        {
          "name": "stdout",
          "output_type": "stream",
          "text": [
            "\n",
            "Statistiques descriptives par classe:\n",
            "        Pregnancies                                                Glucose  \\\n",
            "              count      mean       std  min   25%  50%  75%   max   count   \n",
            "Outcome                                                                      \n",
            "0             500.0  3.298000  3.017185  0.0  1.00  2.0  5.0  13.0   500.0   \n",
            "1             268.0  4.865672  3.741239  0.0  1.75  4.0  8.0  17.0   268.0   \n",
            "\n",
            "                     ... DiabetesPedigreeFunction           Age             \\\n",
            "               mean  ...                      75%    max  count       mean   \n",
            "Outcome              ...                                                     \n",
            "0        110.710121  ...                  0.56175  2.329  500.0  31.190000   \n",
            "1        142.165573  ...                  0.72800  2.420  268.0  37.067164   \n",
            "\n",
            "                                                  \n",
            "               std   min   25%   50%   75%   max  \n",
            "Outcome                                           \n",
            "0        11.667655  21.0  23.0  27.0  37.0  81.0  \n",
            "1        10.968254  21.0  28.0  36.0  44.0  70.0  \n",
            "\n",
            "[2 rows x 64 columns]\n"
          ]
        }
      ],
      "source": [
        "import matplotlib.pyplot as plt\n",
        "import seaborn as sns\n",
        "\n",
        "# Barplot de la distribution de la classe cible\n",
        "plt.figure(figsize=(6, 4))\n",
        "sns.countplot(x='Outcome', data=df)\n",
        "plt.title(\"Distribution de la classe cible (Diabète)\")\n",
        "plt.xticks([0, 1], ['Non-diabétique', 'Diabétique'])\n",
        "plt.show()\n",
        "\n",
        "# Statistiques descriptives par classe\n",
        "print(\"\\nStatistiques descriptives par classe:\")\n",
        "print(df.groupby('Outcome').describe())"
      ]
    },
    {
      "cell_type": "code",
      "execution_count": 18,
      "metadata": {
        "colab": {
          "base_uri": "https://localhost:8080/"
        },
        "id": "TjLtFUA91AhZ",
        "outputId": "b754cd53-f72d-49fe-db75-632c0db97f77"
      },
      "outputs": [
        {
          "name": "stdout",
          "output_type": "stream",
          "text": [
            "\n",
            "Taille de l'ensemble d'entraînement : 460\n",
            "Taille de l'ensemble de validation : 154\n",
            "Taille de l'ensemble de test : 154\n"
          ]
        }
      ],
      "source": [
        "from sklearn.model_selection import train_test_split\n",
        "\n",
        "# Split initial en train (80%) et test (20%)\n",
        "X_train, X_test, y_train, y_test = train_test_split(X, y, test_size=0.2, random_state=42, stratify=y)\n",
        "\n",
        "# Split du set d'entraînement en train (60% de l'original) et validation (20% de l'original)\n",
        "X_train, X_val, y_train, y_val = train_test_split(X_train, y_train, test_size=0.25, random_state=42, stratify=y_train) # 0.25 * 0.8 = 0.2\n",
        "\n",
        "print(f\"\\nTaille de l'ensemble d'entraînement : {len(X_train)}\")\n",
        "print(f\"Taille de l'ensemble de validation : {len(X_val)}\")\n",
        "print(f\"Taille de l'ensemble de test : {len(X_test)}\")"
      ]
    },
    {
      "cell_type": "code",
      "execution_count": 19,
      "metadata": {
        "colab": {
          "base_uri": "https://localhost:8080/"
        },
        "id": "OOVc32tx1DL5",
        "outputId": "07386098-b095-4562-a063-bc83f71c99be"
      },
      "outputs": [
        {
          "name": "stdout",
          "output_type": "stream",
          "text": [
            "\n",
            "Taille de l'ensemble d'entraînement après SMOTE : 600\n",
            "Distribution de la classe cible après SMOTE :\n",
            "Outcome\n",
            "0    300\n",
            "1    300\n",
            "Name: count, dtype: int64\n"
          ]
        }
      ],
      "source": [
        "from imblearn.over_sampling import SMOTE\n",
        "\n",
        "# Appliquer SMOTE sur l'ensemble d'entraînement\n",
        "smote = SMOTE(random_state=42)\n",
        "X_train_res, y_train_res = smote.fit_resample(X_train, y_train)\n",
        "\n",
        "print(f\"\\nTaille de l'ensemble d'entraînement après SMOTE : {len(X_train_res)}\")\n",
        "print(\"Distribution de la classe cible après SMOTE :\")\n",
        "print(y_train_res.value_counts())"
      ]
    },
    {
      "cell_type": "code",
      "execution_count": 20,
      "metadata": {
        "colab": {
          "base_uri": "https://localhost:8080/"
        },
        "id": "9Qcok_KS1GSx",
        "outputId": "647f06fd-baae-4673-abb9-a6ee74505306"
      },
      "outputs": [
        {
          "name": "stdout",
          "output_type": "stream",
          "text": [
            "\n",
            "Évaluation sur l'ensemble de validation:\n",
            "Accuracy: 0.7597\n",
            "Precision: 0.6545\n",
            "Recall: 0.6667\n",
            "F1 Score: 0.6606\n"
          ]
        }
      ],
      "source": [
        "from sklearn.linear_model import LogisticRegression\n",
        "from sklearn.metrics import accuracy_score, precision_score, recall_score, f1_score\n",
        "\n",
        "# Entraîner le modèle de régression logistique\n",
        "model = LogisticRegression(random_state=42)\n",
        "model.fit(X_train_res, y_train_res)\n",
        "\n",
        "# Prédictions sur l'ensemble de validation\n",
        "y_pred_val = model.predict(X_val)\n",
        "\n",
        "# Évaluation sur l'ensemble de validation\n",
        "accuracy_val = accuracy_score(y_val, y_pred_val)\n",
        "precision_val = precision_score(y_val, y_pred_val)\n",
        "recall_val = recall_score(y_val, y_pred_val)\n",
        "f1_val = f1_score(y_val, y_pred_val)\n",
        "\n",
        "print(\"\\nÉvaluation sur l'ensemble de validation:\")\n",
        "print(f\"Accuracy: {accuracy_val:.4f}\")\n",
        "print(f\"Precision: {precision_val:.4f}\")\n",
        "print(f\"Recall: {recall_val:.4f}\")\n",
        "print(f\"F1 Score: {f1_val:.4f}\")"
      ]
    },
    {
      "cell_type": "code",
      "execution_count": 21,
      "metadata": {
        "colab": {
          "base_uri": "https://localhost:8080/"
        },
        "id": "Ffbsot8-1KoZ",
        "outputId": "48eefd3d-b773-40a9-873c-6f75684d3266"
      },
      "outputs": [
        {
          "name": "stdout",
          "output_type": "stream",
          "text": [
            "\n",
            "Matrice de confusion sur l'ensemble de test:\n",
            "[[76 24]\n",
            " [15 39]]\n",
            "\n",
            "Rapport de classification sur l'ensemble de test:\n",
            "                precision    recall  f1-score   support\n",
            "\n",
            "Non-diabétique       0.84      0.76      0.80       100\n",
            "    Diabétique       0.62      0.72      0.67        54\n",
            "\n",
            "      accuracy                           0.75       154\n",
            "     macro avg       0.73      0.74      0.73       154\n",
            "  weighted avg       0.76      0.75      0.75       154\n",
            "\n"
          ]
        }
      ],
      "source": [
        "from sklearn.metrics import confusion_matrix, classification_report\n",
        "\n",
        "# Prédictions sur l'ensemble de test\n",
        "y_pred_test = model.predict(X_test)\n",
        "\n",
        "# Matrice de confusion\n",
        "conf_matrix = confusion_matrix(y_test, y_pred_test)\n",
        "print(\"\\nMatrice de confusion sur l'ensemble de test:\")\n",
        "print(conf_matrix)\n",
        "\n",
        "# Rapport de classification\n",
        "class_report = classification_report(y_test, y_pred_test, target_names=['Non-diabétique', 'Diabétique'])\n",
        "print(\"\\nRapport de classification sur l'ensemble de test:\")\n",
        "print(class_report)"
      ]
    },
    {
      "cell_type": "code",
      "execution_count": 22,
      "metadata": {
        "colab": {
          "base_uri": "https://localhost:8080/"
        },
        "id": "xrrXCspG1NfJ",
        "outputId": "c588cb8e-3e0b-4fc7-ef2c-9ff6fdb12d8e"
      },
      "outputs": [
        {
          "name": "stdout",
          "output_type": "stream",
          "text": [
            "\n",
            "Importance des caractéristiques (Coefficients de la Régression Logistique):\n",
            "                    feature  coefficient\n",
            "1                   Glucose     1.344007\n",
            "5                       BMI     0.910215\n",
            "0               Pregnancies     0.338100\n",
            "6  DiabetesPedigreeFunction     0.315942\n",
            "7                       Age     0.102337\n",
            "4                   Insulin    -0.113641\n",
            "3             SkinThickness    -0.139249\n",
            "2             BloodPressure    -0.183452\n",
            "\n",
            "Nombre de faux positifs : 24\n",
            "Nombre de faux négatifs : 15\n"
          ]
        }
      ],
      "source": [
        "# Importance des caractéristiques (coefficients de la régression logistique)\n",
        "feature_importance = pd.DataFrame({'feature': X.columns, 'coefficient': model.coef_[0]})\n",
        "feature_importance = feature_importance.sort_values('coefficient', ascending=False)\n",
        "print(\"\\nImportance des caractéristiques (Coefficients de la Régression Logistique):\")\n",
        "print(feature_importance)\n",
        "\n",
        "# Analyse des erreurs (faux positifs et faux négatifs)\n",
        "errors = pd.DataFrame({'Actual': y_test, 'Predicted': y_pred_test, 'Difference': y_test - y_pred_test})\n",
        "false_positives = errors[(errors['Actual'] == 0) & (errors['Predicted'] == 1)]\n",
        "false_negatives = errors[(errors['Actual'] == 1) & (errors['Predicted'] == 0)]\n",
        "\n",
        "print(f\"\\nNombre de faux positifs : {len(false_positives)}\")\n",
        "print(f\"Nombre de faux négatifs : {len(false_negatives)}\")\n",
        "\n",
        "# Pour une analyse plus approfondie, vous pouvez examiner les caractéristiques\n",
        "# des exemples spécifiques de faux positifs/négatifs.\n",
        "# print(\"\\nExemples de faux positifs:\")\n",
        "# print(X_test.loc[false_positives.index])\n",
        "# print(\"\\nExemples de faux négatifs:\")\n",
        "# print(X_test.loc[false_negatives.index])"
      ]
    },
    {
      "cell_type": "markdown",
      "metadata": {},
      "source": []
    },
    {
      "cell_type": "code",
      "execution_count": null,
      "metadata": {},
      "outputs": [],
      "source": []
    }
  ],
  "metadata": {
    "colab": {
      "provenance": [],
      "toc_visible": true
    },
    "kernelspec": {
      "display_name": "Python 3",
      "name": "python3"
    },
    "language_info": {
      "name": "python"
    }
  },
  "nbformat": 4,
  "nbformat_minor": 0
}
